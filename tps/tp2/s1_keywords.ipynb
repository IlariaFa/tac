{
 "cells": [
  {
   "cell_type": "markdown",
   "metadata": {},
   "source": [
    "# Extraction de Keywords"
   ]
  },
  {
   "cell_type": "markdown",
   "metadata": {},
   "source": [
    "## Imports"
   ]
  },
  {
   "cell_type": "code",
   "execution_count": 3,
   "metadata": {},
   "outputs": [],
   "source": [
    "import os\n",
    "import yake"
   ]
  },
  {
   "cell_type": "markdown",
   "metadata": {},
   "source": [
    "## Extraire les mots clés d'un document avec Yake"
   ]
  },
  {
   "cell_type": "markdown",
   "metadata": {},
   "source": [
    "https://github.com/LIAAD/yake"
   ]
  },
  {
   "cell_type": "code",
   "execution_count": 4,
   "metadata": {},
   "outputs": [
    {
     "data": {
      "text/plain": [
       "<yake.core.yake.KeywordExtractor at 0x110009d10>"
      ]
     },
     "execution_count": 4,
     "metadata": {},
     "output_type": "execute_result"
    }
   ],
   "source": [
    "# Instantier l'extracteur de mots clés\n",
    "kw_extractor = yake.KeywordExtractor(lan=\"fr\", top=50)\n",
    "kw_extractor"
   ]
  },
  {
   "cell_type": "code",
   "execution_count": 19,
   "metadata": {},
   "outputs": [
    {
     "name": "stdout",
     "output_type": "stream",
     "text": [
      "/Users/ilaria/Desktop/STIC/traitement_auto_corpus/tac/tps/tp2\n",
      "/Users/ilaria/Desktop/STIC/traitement_auto_corpus/tac\n"
     ]
    }
   ],
   "source": [
    "import os\n",
    "print(os.getcwd())\n",
    "\n",
    "# Aller dans le dossier tac\n",
    "os.chdir(\"/Users/ilaria/Desktop/STIC/traitement_auto_corpus/tac\")\n",
    "print(os.getcwd())  # Vérifie que c'est bien tac"
   ]
  },
  {
   "cell_type": "code",
   "execution_count": 28,
   "metadata": {},
   "outputs": [],
   "source": [
    "# Lister les Fichiers\n",
    "data_path = \"data/txt/\"\n",
    "files = [f for f in os.listdir(data_path) if f.endswith('.txt')]\n",
    "#filtrer uniquement les fichiers contenant '1949'\n",
    "files = [f for f in files if \"1949\" in f]"
   ]
  },
  {
   "cell_type": "code",
   "execution_count": 29,
   "metadata": {},
   "outputs": [
    {
     "data": {
      "text/plain": [
       "100"
      ]
     },
     "execution_count": 29,
     "metadata": {},
     "output_type": "execute_result"
    }
   ],
   "source": [
    "# Imprimer le nombre de fichiers identifiés\n",
    "len(files)"
   ]
  },
  {
   "cell_type": "code",
   "execution_count": null,
   "metadata": {},
   "outputs": [
    {
     "ename": "TypeError",
     "evalue": "list indices must be integers or slices, not builtin_function_or_method",
     "output_type": "error",
     "traceback": [
      "\u001b[31m---------------------------------------------------------------------------\u001b[39m",
      "\u001b[31mTypeError\u001b[39m                                 Traceback (most recent call last)",
      "\u001b[36mCell\u001b[39m\u001b[36m \u001b[39m\u001b[32mIn[32]\u001b[39m\u001b[32m, line 2\u001b[39m\n\u001b[32m      1\u001b[39m \u001b[38;5;66;03m# Les dix premiers fichiers\u001b[39;00m\n\u001b[32m----> \u001b[39m\u001b[32m2\u001b[39m \u001b[43mfiles\u001b[49m\u001b[43m[\u001b[49m\u001b[38;5;28;43mall\u001b[39;49m\u001b[43m]\u001b[49m\n",
      "\u001b[31mTypeError\u001b[39m: list indices must be integers or slices, not builtin_function_or_method"
     ]
    }
   ],
   "source": [
    "# Les dix premiers fichiers\n",
    "files[10]"
   ]
  },
  {
   "cell_type": "code",
   "execution_count": 23,
   "metadata": {},
   "outputs": [
    {
     "data": {
      "text/plain": [
       "'KB_JB838_1906-11-12_01-00004.txt'"
      ]
     },
     "execution_count": 23,
     "metadata": {},
     "output_type": "execute_result"
    }
   ],
   "source": [
    "# Choisir un fichier\n",
    "this_file = files[0]\n",
    "this_file"
   ]
  },
  {
   "cell_type": "code",
   "execution_count": 24,
   "metadata": {},
   "outputs": [
    {
     "data": {
      "text/plain": [
       "\"mi imnri r i «i i HMU ' î/tx-'l : Marché tenu hors villa, la 9. — U a été vaain Si téicj »M races indigènes de fr. 31<) à 5S'k 131 de. rasa îicHaKdui'te, do (r. 3S0 h 710. taureaux iallsènas,>ia ù\\\\ — à — ; 0II. hollandais, dufr. 0. — à 9.— la îdto- Vachei laitières: Bn vante 1Q. vendues 3\\\\ au prix la 410 à • «i h\\\\; génisses, Kl. '.9. i l. 2 i. id. da 370 i 6lütr. Marché a<u porcs. — Catégorie de lt ilashtya: ‘237 on vente; vendus 1 M.do ‘2 i.— à ;:, L —;i.l. des t'innlroV- I3ie;» vente, vendus 9\""
      ]
     },
     "execution_count": 24,
     "metadata": {},
     "output_type": "execute_result"
    }
   ],
   "source": [
    "# Récupérer le texte du fichier\n",
    "text = open(os.path.join(data_path, this_file), 'r', encoding='utf-8').read()\n",
    "text[:500]"
   ]
  },
  {
   "cell_type": "code",
   "execution_count": 33,
   "metadata": {},
   "outputs": [
    {
     "data": {
      "text/plain": [
       "[('rue', 0.026452144130170836),\n",
       " ('heures', 0.026978523921583158),\n",
       " ('nullement d’autre cliese', 0.02743225812321008),\n",
       " ('qu’il', 0.027493746262644104),\n",
       " ('Paris', 0.02867285819475733),\n",
       " ('capitaine', 0.030771921460266187),\n",
       " ('Thérèse', 0.035338933754119006),\n",
       " ('capitaine Mac Donald', 0.04946685384312266),\n",
       " ('fut', 0.053217567279997144),\n",
       " ('matin', 0.053829713395140075),\n",
       " ('Bruxelles', 0.05490885502563032),\n",
       " ('soir', 0.055666532461919896),\n",
       " ('Van de Zande', 0.05725322718469239),\n",
       " ('fois', 0.06108423613823516),\n",
       " ('Dubuc', 0.06208931250369379),\n",
       " ('police', 0.06228432151386402),\n",
       " ('trouvait', 0.06387136042379844),\n",
       " ('ans', 0.06413813335525427),\n",
       " ('Sauvetage', 0.0672701512885437),\n",
       " ('qu’elle', 0.06846243312323019),\n",
       " ('temps', 0.0686086066988925),\n",
       " ('New-York', 0.06867220324672696),\n",
       " ('mer', 0.06868762207496344),\n",
       " ('jour', 0.07517773247319469),\n",
       " ('nuit', 0.07964917098795998),\n",
       " ('capitaine Mac', 0.08101576073136586),\n",
       " ('Lachaud', 0.08163644848160194),\n",
       " ('Octave', 0.08282499972499195),\n",
       " ('Flandre', 0.08432717351707628),\n",
       " ('voleurs', 0.0872269372510291),\n",
       " ('mort', 0.08889952719430122),\n",
       " ('s’était', 0.08955343126283002),\n",
       " ('vol', 0.0906825673194306),\n",
       " ('décembre', 0.09140619684635252),\n",
       " ('hommes', 0.0945318564865665),\n",
       " ('coup', 0.10049666899906005),\n",
       " ('jeudi', 0.10096990370764893),\n",
       " ('Mme Lachaud', 0.10245088413032481),\n",
       " ('rue Joseph', 0.11037446626048324),\n",
       " ('police qu’il', 0.11451131164378628),\n",
       " ('fille', 0.11725967107705428),\n",
       " ('jeune homme', 0.1179970577127851),\n",
       " ('faire', 0.11917326904775129),\n",
       " ('Frameries', 0.11920125864224337),\n",
       " ('d’une', 0.11941053739962836),\n",
       " ('sieur Léon Flandre', 0.11981766990634186),\n",
       " ('Collard', 0.12222796195461047),\n",
       " ('bateau', 0.122329725879433),\n",
       " ('farine', 0.12234298455692275),\n",
       " ('s’y', 0.12263476882386883)]"
      ]
     },
     "execution_count": 33,
     "metadata": {},
     "output_type": "execute_result"
    }
   ],
   "source": [
    "# Extraire les mots clés de ce texte\n",
    "keywords = kw_extractor.extract_keywords(text)\n",
    "keywords"
   ]
  },
  {
   "cell_type": "code",
   "execution_count": 34,
   "metadata": {},
   "outputs": [
    {
     "data": {
      "text/plain": [
       "['capitaine Mac', 'Mme Lachaud', 'rue Joseph', 'police qu’il', 'jeune homme']"
      ]
     },
     "execution_count": 34,
     "metadata": {},
     "output_type": "execute_result"
    }
   ],
   "source": [
    "# Ne garder que les bigrammes\n",
    "kept = []\n",
    "for kw, score in keywords:\n",
    "    words = kw.split()\n",
    "    if len(words) == 2:\n",
    "        kept.append(kw)\n",
    "kept"
   ]
  },
  {
   "cell_type": "markdown",
   "metadata": {},
   "source": [
    "## Faire la même opération sur tous les documents"
   ]
  },
  {
   "cell_type": "code",
   "execution_count": 35,
   "metadata": {},
   "outputs": [
    {
     "name": "stdout",
     "output_type": "stream",
     "text": [
      "KB_JB838_1949-01-03_01-00001.txt mentions these keywords: Tell Aviv, ÏOUBNAL QUOTIDIEN, samedi soir, Richard Berchard, d’autre part, vendredi soir, Soir Illustré...\n",
      "KB_JB838_1949-01-06_01-00012.txt mentions these keywords: AGENCE ROSSEL, l’AGENCE ROSSEL, Ecrire Agence, Faire offre, Ecrire Ag.Rossel, Bruxelles dem, Bruxelles cherche, BRUXELLES demande, FIRME IMPORTANTE, cherche place, Demande REPRESENTANTS...\n",
      "KB_JB838_1949-01-11_01-00008.txt mentions these keywords: BLANCHEUR NATURELLE, SAVONNERIES LEVER, LEVER FRERES, SUNLIGHT Assure, Agence Rossel, Rue Royale, mais. rent, Office Propriétaires, LOUER Maison, SOIR SUNLIGHT, maison rentier, CINEMAS ABC...\n",
      "KB_JB838_1949-01-13_01-00002.txt mentions these keywords: Eve Francis, qu’Eve Francis, Temps héroïques, théâtre Eve, Jean Giraudoux, d’Eve Francis...\n",
      "KB_JB838_1949-01-18_01-00008.txt mentions these keywords: Agence Rossel, rue Royale, Bruxelles Tél, louer maison, Forest Tél, Libre Bruxelles...\n",
      "KB_JB838_1949-01-19_01-00006.txt mentions these keywords: ALLEMAGNE OCCUPÉE, Van Beck, Division d’Honneur, CHAMPIONNAT SUISSE...\n",
      "KB_JB838_1949-01-22_01-00007.txt mentions these keywords: plan collectif, plan surélevé, Sciences Politiques, alors qu’il, vie politique, Paul Valéry, Jung fut, d’une politique, devenu banal, volontairement hermétique, den Bosch...\n",
      "KB_JB838_1949-01-23_01-00020.txt mentions these keywords: som DIMANCHE, Pommade Cadum, culture latine, traite volontiers, Chevaliers Tél, Hcftin Tél, Njmur Tél, Moulin Tél, Annoneudcs Tél, Plntamonf Tél, Mirais Tél, Carmes Tél, Pué Tél, Horlicks Horlicks, qtie Von, Cream Pond, Von voit, rue Gachard, rue Royale...\n",
      "KB_JB838_1949-01-27_01-00005.txt mentions these keywords: tient lieu, demeurant rue, Mme Redouté, Concerts dominicaux, présent avis, Van der, avis tient, Fritz Hoyois, tête d’une...\n",
      "KB_JB838_1949-02-05_01-00005.txt mentions these keywords: cardinal Mindszenty, Ordinal Mindszenty, prince Ëszterhazy, Udant Otto, cardinal Spellman, British Council, Mgr Mindszenty, Ladislas Toth, tribunal d’enquête, procès Mindszenty, l’Action catholique...\n"
     ]
    }
   ],
   "source": [
    "for f in sorted(files)[:10]:\n",
    "    text = open(os.path.join(data_path, f), 'r', encoding=\"utf-8\").read()\n",
    "    keywords = kw_extractor.extract_keywords(text)\n",
    "    kept = []\n",
    "    for kw, score in keywords:\n",
    "        words = kw.split()\n",
    "        if len(words) == 2:\n",
    "            kept.append(kw)\n",
    "    print(f\"{f} mentions these keywords: {', '.join(kept)}...\")"
   ]
  }
 ],
 "metadata": {
  "kernelspec": {
   "display_name": ".venv",
   "language": "python",
   "name": "python3"
  },
  "language_info": {
   "codemirror_mode": {
    "name": "ipython",
    "version": 3
   },
   "file_extension": ".py",
   "mimetype": "text/x-python",
   "name": "python",
   "nbconvert_exporter": "python",
   "pygments_lexer": "ipython3",
   "version": "3.11.0"
  }
 },
 "nbformat": 4,
 "nbformat_minor": 4
}
